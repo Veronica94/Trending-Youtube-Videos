{
 "cells": [
  {
   "cell_type": "markdown",
   "metadata": {},
   "source": [
    "## Load data and packages"
   ]
  },
  {
   "cell_type": "code",
   "execution_count": 9,
   "metadata": {},
   "outputs": [],
   "source": [
    "import numpy as np\n",
    "import pandas as pd\n",
    "import json\n",
    "import os"
   ]
  },
  {
   "cell_type": "code",
   "execution_count": 2,
   "metadata": {},
   "outputs": [],
   "source": [
    "os.chdir('D:/Grad Study!/Geeky things (Competition/Youtube data/youtube-new')\n",
    "ca = pd.read_csv('./CAvideos.csv',encoding='utf-8')\n",
    "de = pd.read_csv('./DEvideos.csv',encoding='utf-8')\n",
    "fr = pd.read_csv('./FRvideos.csv',encoding='utf-8')\n",
    "uk = pd.read_csv('./GBvideos.csv',encoding='utf-8')\n",
    "us = pd.read_csv('./USvideos.csv',encoding='utf-8')"
   ]
  },
  {
   "cell_type": "code",
   "execution_count": 3,
   "metadata": {},
   "outputs": [],
   "source": [
    "# Add a column to indicate geo location, then append all tables to one\n",
    "ca['country'] = 'CA'\n",
    "de['country'] = 'DE'\n",
    "fr['country'] = 'FR'\n",
    "uk['country'] = 'UK'\n",
    "us['country'] = 'US'\n",
    "\n",
    "df = pd.concat([ca,de,fr,uk,us], ignore_index=True)"
   ]
  },
  {
   "cell_type": "code",
   "execution_count": 4,
   "metadata": {},
   "outputs": [
    {
     "data": {
      "text/plain": [
       "video_id                     0\n",
       "trending_date                0\n",
       "title                        0\n",
       "channel_title                0\n",
       "category_id                  0\n",
       "publish_time                 0\n",
       "tags                         0\n",
       "views                        1\n",
       "likes                        1\n",
       "dislikes                     1\n",
       "comment_count                2\n",
       "thumbnail_link               2\n",
       "comments_disabled            2\n",
       "ratings_disabled             2\n",
       "video_error_or_removed       2\n",
       "description               4099\n",
       "country                      0\n",
       "dtype: int64"
      ]
     },
     "execution_count": 4,
     "metadata": {},
     "output_type": "execute_result"
    }
   ],
   "source": [
    "# Check missing values\n",
    "df.isnull().sum()"
   ]
  },
  {
   "cell_type": "code",
   "execution_count": 5,
   "metadata": {},
   "outputs": [
    {
     "name": "stdout",
     "output_type": "stream",
     "text": [
      "<class 'pandas.core.frame.DataFrame'>\n",
      "RangeIndex: 116739 entries, 0 to 116738\n",
      "Data columns (total 17 columns):\n",
      "video_id                  116739 non-null object\n",
      "trending_date             116739 non-null object\n",
      "title                     116739 non-null object\n",
      "channel_title             116739 non-null object\n",
      "category_id               116739 non-null int64\n",
      "publish_time              116739 non-null object\n",
      "tags                      116739 non-null object\n",
      "views                     116738 non-null object\n",
      "likes                     116738 non-null object\n",
      "dislikes                  116738 non-null object\n",
      "comment_count             116737 non-null float64\n",
      "thumbnail_link            116737 non-null object\n",
      "comments_disabled         116737 non-null object\n",
      "ratings_disabled          116737 non-null object\n",
      "video_error_or_removed    116737 non-null object\n",
      "description               112640 non-null object\n",
      "country                   116739 non-null object\n",
      "dtypes: float64(1), int64(1), object(15)\n",
      "memory usage: 15.1+ MB\n"
     ]
    }
   ],
   "source": [
    "df.info()"
   ]
  },
  {
   "cell_type": "code",
   "execution_count": 6,
   "metadata": {},
   "outputs": [],
   "source": [
    "# Drop rows where views, likes and comments == missing\n",
    "df = df[np.isfinite(df['comment_count'])]"
   ]
  },
  {
   "cell_type": "code",
   "execution_count": 7,
   "metadata": {},
   "outputs": [],
   "source": [
    "# Set trending date to datetime\n",
    "df['trending_date'] = pd.to_datetime(df['trending_date'], format='%y.%d.%m')\n",
    "df['publish_time'] = pd.to_datetime(df['publish_time'], format='%Y-%m-%dT%H:%M:%S.%fZ')\n",
    "\n",
    "# New column on date difference between trending date and publish date\n",
    "df['date_diff'] = df['trending_date'] - df['publish_time']"
   ]
  },
  {
   "cell_type": "code",
   "execution_count": 8,
   "metadata": {},
   "outputs": [],
   "source": [
    "# Convert views, likes and dislikes to int64\n",
    "int_list = ['views', 'likes', 'dislikes', 'comment_count']\n",
    "for column in int_list:\n",
    "    df[column] = df[column].astype(int)\n",
    "\n",
    "str_list = ['category_id']\n",
    "for column in str_list:\n",
    "    df[column] = df[column].astype(str)"
   ]
  },
  {
   "cell_type": "code",
   "execution_count": 34,
   "metadata": {},
   "outputs": [],
   "source": [
    "#Map category id to category title, and map it back to the dataset\n",
    "id_category = {}\n",
    "\n",
    "with open('CA_category_id.json', 'r') as f:\n",
    "    data = json.load(f)\n",
    "    for category in data['items']:\n",
    "        id_category[category['id']] = category['snippet']['title']\n",
    "\n",
    "#Map category title to the dataset\n",
    "df.insert(4, 'category', df['category_id'].map(id_category))\n",
    "df = df.drop('category_id',axis=1)"
   ]
  },
  {
   "cell_type": "code",
   "execution_count": 37,
   "metadata": {},
   "outputs": [],
   "source": [
    "#export the dataset to csv\n",
    "df.to_csv('video_stats.csv',encoding='utf-8')"
   ]
  }
 ],
 "metadata": {
  "kernelspec": {
   "display_name": "Python 3",
   "language": "python",
   "name": "python3"
  },
  "language_info": {
   "codemirror_mode": {
    "name": "ipython",
    "version": 3
   },
   "file_extension": ".py",
   "mimetype": "text/x-python",
   "name": "python",
   "nbconvert_exporter": "python",
   "pygments_lexer": "ipython3",
   "version": "3.6.4"
  }
 },
 "nbformat": 4,
 "nbformat_minor": 2
}
